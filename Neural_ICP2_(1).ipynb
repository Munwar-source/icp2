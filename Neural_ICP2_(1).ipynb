{
  "nbformat": 4,
  "nbformat_minor": 0,
  "metadata": {
    "colab": {
      "provenance": []
    },
    "kernelspec": {
      "name": "python3",
      "display_name": "Python 3"
    },
    "language_info": {
      "name": "python"
    }
  },
  "cells": [
    {
      "cell_type": "code",
      "execution_count": null,
      "metadata": {
        "id": "dEPLj_5pMu5G",
        "colab": {
          "base_uri": "https://localhost:8080/"
        },
        "outputId": "fe258412-5b0c-4bd5-b57f-3add77acf31b"
      },
      "outputs": [
        {
          "output_type": "stream",
          "name": "stdout",
          "text": [
            "Enter first name: MUNWAR\n",
            "Enter last name: SHAIK\n",
            "Full name: MUNWAR SHAIK\n",
            "Alternative string: MNA HI\n"
          ]
        }
      ],
      "source": [
        "def fullname(first_name, last_name):\n",
        "    return f\"{first_name} {last_name}\"\n",
        "\n",
        "def string_alternative(full_name):\n",
        "    return full_name[::2]\n",
        "\n",
        "first_name = input(\"Enter first name: \")\n",
        "last_name = input(\"Enter last name: \")\n",
        "\n",
        "full_name = fullname(first_name, last_name)\n",
        "\n",
        "print(\"Full name:\", full_name)\n",
        "\n",
        "\n",
        "alternative_string = string_alternative(full_name)\n",
        "print(\"Alternative string:\", alternative_string)\n"
      ]
    },
    {
      "cell_type": "code",
      "source": [
        "from google.colab import drive\n",
        "drive.mount('/content/drive')\n",
        "\n",
        "input_path = '/content/drive/MyDrive/input.txt'\n",
        "output_path = '/content/drive/MyDrive/output.txt'\n",
        "\n",
        "def count_words(input_path, output_path):\n",
        "    try:\n",
        "        with open(input_path, 'r') as file:\n",
        "            text = file.read()\n",
        "            words = text.split()\n",
        "            word_count = len(words)\n",
        "\n",
        "            word_counts = {}\n",
        "            for word in words:\n",
        "                if word in word_counts:\n",
        "                    word_counts[word] += 1\n",
        "                else:\n",
        "                    word_counts[word] = 1\n",
        "\n",
        "            with open(output_path, 'w') as out_file:\n",
        "                out_file.write(\"Word counts:\\n\")\n",
        "                for word, count in word_counts.items():\n",
        "                    out_file.write(f\"{word}: {count}\\n\")\n",
        "\n",
        "            print(f\"Output written to {output_path}\")\n",
        "\n",
        "    except FileNotFoundError:\n",
        "        print(f\"Error: The file '{input_path}' was not found.\")\n",
        "\n",
        "count_words(input_path, output_path)\n",
        "\n",
        "\n"
      ],
      "metadata": {
        "id": "ZdTO95lLNUPB",
        "colab": {
          "base_uri": "https://localhost:8080/"
        },
        "outputId": "a9a2dec8-f3a4-4f5e-f8c8-4c13b5703cbb"
      },
      "execution_count": null,
      "outputs": [
        {
          "output_type": "stream",
          "name": "stdout",
          "text": [
            "Drive already mounted at /content/drive; to attempt to forcibly remount, call drive.mount(\"/content/drive\", force_remount=True).\n",
            "Output written to /content/drive/MyDrive/output.txt\n"
          ]
        }
      ]
    },
    {
      "cell_type": "markdown",
      "source": [
        "Nested Interactive Loop"
      ],
      "metadata": {
        "id": "d2JNRYRiftNH"
      }
    },
    {
      "cell_type": "code",
      "source": [
        "def convert_heights_nested():\n",
        "    heights_inches = []\n",
        "    heights_cm = []\n",
        "\n",
        "    while True:\n",
        "        height_str = input(\"Enter height in inches: \")\n",
        "        if height_str.lower() == 'end':\n",
        "            break\n",
        "        try:\n",
        "            height_inches = float(height_str)\n",
        "            if height_inches < 0:\n",
        "                print(\"Height should be a positive number.\")\n",
        "            else:\n",
        "                heights_inches.append(height_inches)\n",
        "        except ValueError:\n",
        "            print(\"Invalid input. Please enter a valid number or 'done'.\")\n",
        "\n",
        "\n",
        "    for height in heights_inches:\n",
        "        height_cm = height * 2.54\n",
        "        heights_cm.append(height_cm)\n",
        "\n",
        "\n",
        "    print(\"\\nHeights in Inches:\", heights_inches)\n",
        "    print(\"Heights in Centimeters:\", heights_cm)\n",
        "\n",
        "\n",
        "convert_heights_nested()\n"
      ],
      "metadata": {
        "id": "qyXO_kr_fyDO",
        "colab": {
          "base_uri": "https://localhost:8080/"
        },
        "outputId": "5aa36bf0-6cf2-4688-89f6-4a27b61d9f3d"
      },
      "execution_count": null,
      "outputs": [
        {
          "output_type": "stream",
          "name": "stdout",
          "text": [
            "Enter height in inches: 3\n",
            "Enter height in inches: 4\n",
            "Enter height in inches: 5\n",
            "Enter height in inches: END\n",
            "\n",
            "Heights in Inches: [3.0, 4.0, 5.0]\n",
            "Heights in Centimeters: [7.62, 10.16, 12.7]\n"
          ]
        }
      ]
    },
    {
      "cell_type": "markdown",
      "source": [
        "List Comprehension:"
      ],
      "metadata": {
        "id": "sVCCoJiijqy6"
      }
    },
    {
      "cell_type": "code",
      "source": [
        "def convert_heights_comprehension():\n",
        "    heights_inches = []\n",
        "\n",
        "\n",
        "    while True:\n",
        "        height_str = input(\"Enter height in inches: \")\n",
        "        if height_str.lower() == 'end':\n",
        "            break\n",
        "        try:\n",
        "            height_inches = float(height_str)\n",
        "            if height_inches < 0:\n",
        "                print(\"Height should be a positive number.\")\n",
        "            else:\n",
        "                heights_inches.append(height_inches)\n",
        "        except ValueError:\n",
        "            print(\"Invalid input. Please enter a valid number or 'done'.\")\n",
        "\n",
        "\n",
        "    heights_cm = [height * 2.54 for height in heights_inches]\n",
        "\n",
        "\n",
        "    print(\"\\nHeights in Inches:\", heights_inches)\n",
        "    print(\"Heights in Centimeters:\", heights_cm)\n",
        "\n",
        "\n",
        "convert_heights_comprehension()\n"
      ],
      "metadata": {
        "id": "pJOCEX3zjxJ4",
        "colab": {
          "base_uri": "https://localhost:8080/"
        },
        "outputId": "076b78f2-ab1a-4853-eacb-df65b1c5fb86"
      },
      "execution_count": null,
      "outputs": [
        {
          "output_type": "stream",
          "name": "stdout",
          "text": [
            "Enter height in inches: 3\n",
            "Enter height in inches: 4\n",
            "Enter height in inches: 5\n",
            "Enter height in inches: END\n",
            "\n",
            "Heights in Inches: [3.0, 4.0, 5.0]\n",
            "Heights in Centimeters: [7.62, 10.16, 12.7]\n"
          ]
        }
      ]
    }
  ]
}